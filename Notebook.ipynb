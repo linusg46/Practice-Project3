{
 "cells": [
  {
   "cell_type": "markdown",
   "metadata": {},
   "source": [
    "# Analysis on the impact of Climatic and Economic Factors on Walmart's weekly sales."
   ]
  },
  {
   "cell_type": "markdown",
   "metadata": {},
   "source": [
    "## (a) Business Understanding"
   ]
  },
  {
   "cell_type": "markdown",
   "metadata": {},
   "source": [
    "Walmart is a multinational retail corporation that operates on a chain of hypermarkets, discounts department stores, and grocery stores. The company's business model is based on selling a wide variety of general merchandaise at low prices.Walmart's success is driven by its ability to offer customers a convenient and affordable shopping experience, both in-store and online.\n",
    "\n",
    "One of the challenges that walmart faces is the need to remain competitive in an increasingly  crowded retail landscape. Theis requires the company to continuously innovate and improve its operation to meet changing customer needs and preferences.\n",
    "\n",
    "Our project aims to help the Board of Directors of Walmart adress this challenges by providing detailed analysis and insights into the factores that affect its business. By understanding the key drivers of Walmart's sucess we can help the company develop strategies to optimize its operations and better serve its stakeholders.\n",
    "\n",
    "Our project will provide their board of directors valuable insights and actionable recommendations to help the company navigate the complex business environment and achieve its goals."
   ]
  },
  {
   "cell_type": "markdown",
   "metadata": {},
   "source": [
    "## (b) Problem statement"
   ]
  },
  {
   "cell_type": "markdown",
   "metadata": {},
   "source": [
    "\n",
    "The problem this project aims to address is the need for a better understanding and how these climatic andd economic factors influence the weekly sales of walmart.By analyzing the impact of these factors on Walmart's sales, we provide valuable insights to help the company optimize its operation and better serve their customers.Through analysis we will provide actionable recommendations to help Walmart improve its sales performance and achieve its business objectives"
   ]
  },
  {
   "cell_type": "markdown",
   "metadata": {},
   "source": [
    "# Data Understanding"
   ]
  },
  {
   "cell_type": "code",
   "execution_count": 1,
   "metadata": {},
   "outputs": [],
   "source": [
    "#importing relevant libraries\n",
    "import pandas as pd\n",
    "import numpy as np\n",
    "import seaborn as sns\n",
    "import matplotlib.pyplot as plt \n",
    "%matplotlib inline\n",
    "import statsmodels.api as sm\n",
    "import scipy.stats as stats\n",
    "import datetime\n",
    "import re"
   ]
  },
  {
   "cell_type": "code",
   "execution_count": 2,
   "metadata": {},
   "outputs": [
    {
     "data": {
      "text/html": [
       "<div>\n",
       "<style scoped>\n",
       "    .dataframe tbody tr th:only-of-type {\n",
       "        vertical-align: middle;\n",
       "    }\n",
       "\n",
       "    .dataframe tbody tr th {\n",
       "        vertical-align: top;\n",
       "    }\n",
       "\n",
       "    .dataframe thead th {\n",
       "        text-align: right;\n",
       "    }\n",
       "</style>\n",
       "<table border=\"1\" class=\"dataframe\">\n",
       "  <thead>\n",
       "    <tr style=\"text-align: right;\">\n",
       "      <th></th>\n",
       "      <th>Store</th>\n",
       "      <th>Date</th>\n",
       "      <th>Weekly_Sales</th>\n",
       "      <th>Holiday_Flag</th>\n",
       "      <th>Temperature</th>\n",
       "      <th>Fuel_Price</th>\n",
       "      <th>CPI</th>\n",
       "      <th>Unemployment</th>\n",
       "    </tr>\n",
       "  </thead>\n",
       "  <tbody>\n",
       "    <tr>\n",
       "      <th>0</th>\n",
       "      <td>1</td>\n",
       "      <td>05-02-2010</td>\n",
       "      <td>1643690.90</td>\n",
       "      <td>0</td>\n",
       "      <td>42.31</td>\n",
       "      <td>2.572</td>\n",
       "      <td>211.096358</td>\n",
       "      <td>8.106</td>\n",
       "    </tr>\n",
       "    <tr>\n",
       "      <th>1</th>\n",
       "      <td>1</td>\n",
       "      <td>12-02-2010</td>\n",
       "      <td>1641957.44</td>\n",
       "      <td>1</td>\n",
       "      <td>38.51</td>\n",
       "      <td>2.548</td>\n",
       "      <td>211.242170</td>\n",
       "      <td>8.106</td>\n",
       "    </tr>\n",
       "  </tbody>\n",
       "</table>\n",
       "</div>"
      ],
      "text/plain": [
       "   Store        Date  Weekly_Sales  Holiday_Flag  Temperature  Fuel_Price  \\\n",
       "0      1  05-02-2010    1643690.90             0        42.31       2.572   \n",
       "1      1  12-02-2010    1641957.44             1        38.51       2.548   \n",
       "\n",
       "          CPI  Unemployment  \n",
       "0  211.096358         8.106  \n",
       "1  211.242170         8.106  "
      ]
     },
     "execution_count": 2,
     "metadata": {},
     "output_type": "execute_result"
    }
   ],
   "source": [
    "#reading the dataset\n",
    "df = pd.read_csv ('walmart.csv')\n",
    "df.head(2)\n"
   ]
  },
  {
   "cell_type": "code",
   "execution_count": 3,
   "metadata": {},
   "outputs": [
    {
     "data": {
      "text/html": [
       "<div>\n",
       "<style scoped>\n",
       "    .dataframe tbody tr th:only-of-type {\n",
       "        vertical-align: middle;\n",
       "    }\n",
       "\n",
       "    .dataframe tbody tr th {\n",
       "        vertical-align: top;\n",
       "    }\n",
       "\n",
       "    .dataframe thead th {\n",
       "        text-align: right;\n",
       "    }\n",
       "</style>\n",
       "<table border=\"1\" class=\"dataframe\">\n",
       "  <thead>\n",
       "    <tr style=\"text-align: right;\">\n",
       "      <th></th>\n",
       "      <th>Store</th>\n",
       "      <th>Date</th>\n",
       "      <th>Weekly_Sales</th>\n",
       "      <th>Holiday_Flag</th>\n",
       "      <th>Temperature</th>\n",
       "      <th>Fuel_Price</th>\n",
       "      <th>CPI</th>\n",
       "      <th>Unemployment</th>\n",
       "    </tr>\n",
       "  </thead>\n",
       "  <tbody>\n",
       "    <tr>\n",
       "      <th>6433</th>\n",
       "      <td>45</td>\n",
       "      <td>19-10-2012</td>\n",
       "      <td>718125.53</td>\n",
       "      <td>0</td>\n",
       "      <td>56.47</td>\n",
       "      <td>3.969</td>\n",
       "      <td>192.330854</td>\n",
       "      <td>8.667</td>\n",
       "    </tr>\n",
       "    <tr>\n",
       "      <th>6434</th>\n",
       "      <td>45</td>\n",
       "      <td>26-10-2012</td>\n",
       "      <td>760281.43</td>\n",
       "      <td>0</td>\n",
       "      <td>58.85</td>\n",
       "      <td>3.882</td>\n",
       "      <td>192.308899</td>\n",
       "      <td>8.667</td>\n",
       "    </tr>\n",
       "  </tbody>\n",
       "</table>\n",
       "</div>"
      ],
      "text/plain": [
       "      Store        Date  Weekly_Sales  Holiday_Flag  Temperature  Fuel_Price  \\\n",
       "6433     45  19-10-2012     718125.53             0        56.47       3.969   \n",
       "6434     45  26-10-2012     760281.43             0        58.85       3.882   \n",
       "\n",
       "             CPI  Unemployment  \n",
       "6433  192.330854         8.667  \n",
       "6434  192.308899         8.667  "
      ]
     },
     "execution_count": 3,
     "metadata": {},
     "output_type": "execute_result"
    }
   ],
   "source": [
    "#checking last records in the dataset\n",
    "df.tail(2)"
   ]
  },
  {
   "cell_type": "code",
   "execution_count": 4,
   "metadata": {},
   "outputs": [
    {
     "data": {
      "text/plain": [
       "(6435, 8)"
      ]
     },
     "execution_count": 4,
     "metadata": {},
     "output_type": "execute_result"
    }
   ],
   "source": [
    "df.shape"
   ]
  },
  {
   "cell_type": "code",
   "execution_count": 6,
   "metadata": {},
   "outputs": [
    {
     "name": "stdout",
     "output_type": "stream",
     "text": [
      "<class 'pandas.core.frame.DataFrame'>\n",
      "RangeIndex: 6435 entries, 0 to 6434\n",
      "Data columns (total 8 columns):\n",
      " #   Column        Non-Null Count  Dtype  \n",
      "---  ------        --------------  -----  \n",
      " 0   Store         6435 non-null   int64  \n",
      " 1   Date          6435 non-null   object \n",
      " 2   Weekly_Sales  6435 non-null   float64\n",
      " 3   Holiday_Flag  6435 non-null   int64  \n",
      " 4   Temperature   6435 non-null   float64\n",
      " 5   Fuel_Price    6435 non-null   float64\n",
      " 6   CPI           6435 non-null   float64\n",
      " 7   Unemployment  6435 non-null   float64\n",
      "dtypes: float64(5), int64(2), object(1)\n",
      "memory usage: 402.3+ KB\n"
     ]
    }
   ],
   "source": [
    "#checking the dataset info\n",
    "df.info()"
   ]
  },
  {
   "cell_type": "code",
   "execution_count": 7,
   "metadata": {},
   "outputs": [
    {
     "data": {
      "text/plain": [
       "Store           0\n",
       "Date            0\n",
       "Weekly_Sales    0\n",
       "Holiday_Flag    0\n",
       "Temperature     0\n",
       "Fuel_Price      0\n",
       "CPI             0\n",
       "Unemployment    0\n",
       "dtype: int64"
      ]
     },
     "execution_count": 7,
     "metadata": {},
     "output_type": "execute_result"
    }
   ],
   "source": [
    "#checking the missing values in the dataset\n",
    "df.isna().sum()"
   ]
  },
  {
   "cell_type": "code",
   "execution_count": 8,
   "metadata": {},
   "outputs": [
    {
     "data": {
      "text/plain": [
       "False    6435\n",
       "dtype: int64"
      ]
     },
     "execution_count": 8,
     "metadata": {},
     "output_type": "execute_result"
    }
   ],
   "source": [
    "#checking Duplicates\n",
    "df.duplicated().value_counts()"
   ]
  },
  {
   "cell_type": "code",
   "execution_count": 9,
   "metadata": {},
   "outputs": [
    {
     "data": {
      "text/plain": [
       "array([1643690.9 , 1641957.44, 1611968.17, ...,  734464.36,  718125.53,\n",
       "        760281.43])"
      ]
     },
     "execution_count": 9,
     "metadata": {},
     "output_type": "execute_result"
    }
   ],
   "source": [
    "#checking the unique values in the weekly_sales column\n",
    "df['Weekly_Sales'].unique()\n"
   ]
  },
  {
   "cell_type": "code",
   "execution_count": 10,
   "metadata": {},
   "outputs": [
    {
     "name": "stdout",
     "output_type": "stream",
     "text": [
      "<class 'pandas.core.frame.DataFrame'>\n",
      "Int64Index: 0 entries\n",
      "Data columns (total 8 columns):\n",
      " #   Column        Non-Null Count  Dtype \n",
      "---  ------        --------------  ----- \n",
      " 0   Store         0 non-null      string\n",
      " 1   Date          0 non-null      string\n",
      " 2   Weekly_Sales  0 non-null      string\n",
      " 3   Holiday_Flag  0 non-null      string\n",
      " 4   Temperature   0 non-null      string\n",
      " 5   Fuel_Price    0 non-null      string\n",
      " 6   CPI           0 non-null      string\n",
      " 7   Unemployment  0 non-null      string\n",
      "dtypes: string(8)\n",
      "memory usage: 0.0 bytes\n"
     ]
    }
   ],
   "source": [
    "\n",
    "# Function to check for any special characters except \" . \" and \" - \"\n",
    "def contains_special_characters(value):\n",
    "    return bool(re.search(r\"[^\\w\\s\\.\\-]\", value))\n",
    "\n",
    "# Create a temporary copy of dataframe with all values as string for cross-checking.\n",
    "validity_check = df.astype(\"string\")\n",
    "\n",
    "# Create a boolean mask of the dataframe by applying above function.\n",
    "mask = validity_check.applymap(contains_special_characters)\n",
    "\n",
    "# Query the dataframe for records containing special characters.\n",
    "result = validity_check[mask.any(axis=1)]\n",
    "\n",
    "# Display Results\n",
    "result.info()"
   ]
  },
  {
   "cell_type": "code",
   "execution_count": 11,
   "metadata": {},
   "outputs": [
    {
     "data": {
      "text/html": [
       "<div>\n",
       "<style scoped>\n",
       "    .dataframe tbody tr th:only-of-type {\n",
       "        vertical-align: middle;\n",
       "    }\n",
       "\n",
       "    .dataframe tbody tr th {\n",
       "        vertical-align: top;\n",
       "    }\n",
       "\n",
       "    .dataframe thead th {\n",
       "        text-align: right;\n",
       "    }\n",
       "</style>\n",
       "<table border=\"1\" class=\"dataframe\">\n",
       "  <thead>\n",
       "    <tr style=\"text-align: right;\">\n",
       "      <th></th>\n",
       "      <th>Store</th>\n",
       "      <th>Weekly_Sales</th>\n",
       "      <th>Holiday_Flag</th>\n",
       "      <th>Temperature</th>\n",
       "      <th>Fuel_Price</th>\n",
       "      <th>CPI</th>\n",
       "      <th>Unemployment</th>\n",
       "    </tr>\n",
       "  </thead>\n",
       "  <tbody>\n",
       "    <tr>\n",
       "      <th>count</th>\n",
       "      <td>6435.000000</td>\n",
       "      <td>6.435000e+03</td>\n",
       "      <td>6435.000000</td>\n",
       "      <td>6435.000000</td>\n",
       "      <td>6435.000000</td>\n",
       "      <td>6435.000000</td>\n",
       "      <td>6435.000000</td>\n",
       "    </tr>\n",
       "    <tr>\n",
       "      <th>mean</th>\n",
       "      <td>23.000000</td>\n",
       "      <td>1.046965e+06</td>\n",
       "      <td>0.069930</td>\n",
       "      <td>60.663782</td>\n",
       "      <td>3.358607</td>\n",
       "      <td>171.578394</td>\n",
       "      <td>7.999151</td>\n",
       "    </tr>\n",
       "    <tr>\n",
       "      <th>std</th>\n",
       "      <td>12.988182</td>\n",
       "      <td>5.643666e+05</td>\n",
       "      <td>0.255049</td>\n",
       "      <td>18.444933</td>\n",
       "      <td>0.459020</td>\n",
       "      <td>39.356712</td>\n",
       "      <td>1.875885</td>\n",
       "    </tr>\n",
       "    <tr>\n",
       "      <th>min</th>\n",
       "      <td>1.000000</td>\n",
       "      <td>2.099862e+05</td>\n",
       "      <td>0.000000</td>\n",
       "      <td>-2.060000</td>\n",
       "      <td>2.472000</td>\n",
       "      <td>126.064000</td>\n",
       "      <td>3.879000</td>\n",
       "    </tr>\n",
       "    <tr>\n",
       "      <th>25%</th>\n",
       "      <td>12.000000</td>\n",
       "      <td>5.533501e+05</td>\n",
       "      <td>0.000000</td>\n",
       "      <td>47.460000</td>\n",
       "      <td>2.933000</td>\n",
       "      <td>131.735000</td>\n",
       "      <td>6.891000</td>\n",
       "    </tr>\n",
       "    <tr>\n",
       "      <th>50%</th>\n",
       "      <td>23.000000</td>\n",
       "      <td>9.607460e+05</td>\n",
       "      <td>0.000000</td>\n",
       "      <td>62.670000</td>\n",
       "      <td>3.445000</td>\n",
       "      <td>182.616521</td>\n",
       "      <td>7.874000</td>\n",
       "    </tr>\n",
       "    <tr>\n",
       "      <th>75%</th>\n",
       "      <td>34.000000</td>\n",
       "      <td>1.420159e+06</td>\n",
       "      <td>0.000000</td>\n",
       "      <td>74.940000</td>\n",
       "      <td>3.735000</td>\n",
       "      <td>212.743293</td>\n",
       "      <td>8.622000</td>\n",
       "    </tr>\n",
       "    <tr>\n",
       "      <th>max</th>\n",
       "      <td>45.000000</td>\n",
       "      <td>3.818686e+06</td>\n",
       "      <td>1.000000</td>\n",
       "      <td>100.140000</td>\n",
       "      <td>4.468000</td>\n",
       "      <td>227.232807</td>\n",
       "      <td>14.313000</td>\n",
       "    </tr>\n",
       "  </tbody>\n",
       "</table>\n",
       "</div>"
      ],
      "text/plain": [
       "             Store  Weekly_Sales  Holiday_Flag  Temperature   Fuel_Price  \\\n",
       "count  6435.000000  6.435000e+03   6435.000000  6435.000000  6435.000000   \n",
       "mean     23.000000  1.046965e+06      0.069930    60.663782     3.358607   \n",
       "std      12.988182  5.643666e+05      0.255049    18.444933     0.459020   \n",
       "min       1.000000  2.099862e+05      0.000000    -2.060000     2.472000   \n",
       "25%      12.000000  5.533501e+05      0.000000    47.460000     2.933000   \n",
       "50%      23.000000  9.607460e+05      0.000000    62.670000     3.445000   \n",
       "75%      34.000000  1.420159e+06      0.000000    74.940000     3.735000   \n",
       "max      45.000000  3.818686e+06      1.000000   100.140000     4.468000   \n",
       "\n",
       "               CPI  Unemployment  \n",
       "count  6435.000000   6435.000000  \n",
       "mean    171.578394      7.999151  \n",
       "std      39.356712      1.875885  \n",
       "min     126.064000      3.879000  \n",
       "25%     131.735000      6.891000  \n",
       "50%     182.616521      7.874000  \n",
       "75%     212.743293      8.622000  \n",
       "max     227.232807     14.313000  "
      ]
     },
     "execution_count": 11,
     "metadata": {},
     "output_type": "execute_result"
    }
   ],
   "source": [
    "# Dataset Statistical Information\n",
    "df.describe()"
   ]
  },
  {
   "cell_type": "markdown",
   "metadata": {},
   "source": [
    "### Data Description"
   ]
  },
  {
   "cell_type": "markdown",
   "metadata": {},
   "source": [
    "1. We deduce that the dataset has 6430 rows and 8 columns with 7 numericals and 1 object\n",
    "2. There is no missing values\n",
    "3. The dataset has no duplicates\n",
    "4. The least temperature is -2.060000 F and the highest is 100.14000"
   ]
  },
  {
   "cell_type": "markdown",
   "metadata": {},
   "source": [
    "# Data Preparation"
   ]
  },
  {
   "cell_type": "code",
   "execution_count": 12,
   "metadata": {},
   "outputs": [],
   "source": [
    "#dropping irrelevant columns\n",
    "df.drop(['Store'],  axis=1, inplace=True)\n"
   ]
  },
  {
   "cell_type": "code",
   "execution_count": 13,
   "metadata": {},
   "outputs": [
    {
     "data": {
      "text/plain": [
       "Index(['Date', 'Weekly_Sales', 'Holiday_Flag', 'Temperature', 'Fuel_Price',\n",
       "       'CPI', 'Unemployment'],\n",
       "      dtype='object')"
      ]
     },
     "execution_count": 13,
     "metadata": {},
     "output_type": "execute_result"
    }
   ],
   "source": [
    "df.columns"
   ]
  },
  {
   "cell_type": "code",
   "execution_count": 14,
   "metadata": {},
   "outputs": [
    {
     "data": {
      "text/html": [
       "<div>\n",
       "<style scoped>\n",
       "    .dataframe tbody tr th:only-of-type {\n",
       "        vertical-align: middle;\n",
       "    }\n",
       "\n",
       "    .dataframe tbody tr th {\n",
       "        vertical-align: top;\n",
       "    }\n",
       "\n",
       "    .dataframe thead th {\n",
       "        text-align: right;\n",
       "    }\n",
       "</style>\n",
       "<table border=\"1\" class=\"dataframe\">\n",
       "  <thead>\n",
       "    <tr style=\"text-align: right;\">\n",
       "      <th></th>\n",
       "      <th>Date</th>\n",
       "      <th>Weekly_Sales</th>\n",
       "      <th>Holiday_Flag</th>\n",
       "      <th>Temperature</th>\n",
       "      <th>Fuel_Price</th>\n",
       "      <th>CPI</th>\n",
       "      <th>Unemployment</th>\n",
       "    </tr>\n",
       "  </thead>\n",
       "  <tbody>\n",
       "    <tr>\n",
       "      <th>0</th>\n",
       "      <td>05-02-2010</td>\n",
       "      <td>1643690.90</td>\n",
       "      <td>0</td>\n",
       "      <td>42.31</td>\n",
       "      <td>2.572</td>\n",
       "      <td>211.096358</td>\n",
       "      <td>8.106</td>\n",
       "    </tr>\n",
       "    <tr>\n",
       "      <th>1</th>\n",
       "      <td>12-02-2010</td>\n",
       "      <td>1641957.44</td>\n",
       "      <td>1</td>\n",
       "      <td>38.51</td>\n",
       "      <td>2.548</td>\n",
       "      <td>211.242170</td>\n",
       "      <td>8.106</td>\n",
       "    </tr>\n",
       "    <tr>\n",
       "      <th>2</th>\n",
       "      <td>19-02-2010</td>\n",
       "      <td>1611968.17</td>\n",
       "      <td>0</td>\n",
       "      <td>39.93</td>\n",
       "      <td>2.514</td>\n",
       "      <td>211.289143</td>\n",
       "      <td>8.106</td>\n",
       "    </tr>\n",
       "    <tr>\n",
       "      <th>3</th>\n",
       "      <td>26-02-2010</td>\n",
       "      <td>1409727.59</td>\n",
       "      <td>0</td>\n",
       "      <td>46.63</td>\n",
       "      <td>2.561</td>\n",
       "      <td>211.319643</td>\n",
       "      <td>8.106</td>\n",
       "    </tr>\n",
       "    <tr>\n",
       "      <th>4</th>\n",
       "      <td>05-03-2010</td>\n",
       "      <td>1554806.68</td>\n",
       "      <td>0</td>\n",
       "      <td>46.50</td>\n",
       "      <td>2.625</td>\n",
       "      <td>211.350143</td>\n",
       "      <td>8.106</td>\n",
       "    </tr>\n",
       "  </tbody>\n",
       "</table>\n",
       "</div>"
      ],
      "text/plain": [
       "         Date  Weekly_Sales  Holiday_Flag  Temperature  Fuel_Price  \\\n",
       "0  05-02-2010    1643690.90             0        42.31       2.572   \n",
       "1  12-02-2010    1641957.44             1        38.51       2.548   \n",
       "2  19-02-2010    1611968.17             0        39.93       2.514   \n",
       "3  26-02-2010    1409727.59             0        46.63       2.561   \n",
       "4  05-03-2010    1554806.68             0        46.50       2.625   \n",
       "\n",
       "          CPI  Unemployment  \n",
       "0  211.096358         8.106  \n",
       "1  211.242170         8.106  \n",
       "2  211.289143         8.106  \n",
       "3  211.319643         8.106  \n",
       "4  211.350143         8.106  "
      ]
     },
     "execution_count": 14,
     "metadata": {},
     "output_type": "execute_result"
    }
   ],
   "source": [
    "df.head()\n",
    "\n"
   ]
  },
  {
   "cell_type": "code",
   "execution_count": 15,
   "metadata": {},
   "outputs": [],
   "source": [
    "#converting date to datetime\n",
    "df[\"Date\"] = pd.to_datetime (df[\"Date\"], format=\"%d-%m-%Y\")\n"
   ]
  },
  {
   "cell_type": "code",
   "execution_count": 16,
   "metadata": {},
   "outputs": [
    {
     "data": {
      "text/html": [
       "<div>\n",
       "<style scoped>\n",
       "    .dataframe tbody tr th:only-of-type {\n",
       "        vertical-align: middle;\n",
       "    }\n",
       "\n",
       "    .dataframe tbody tr th {\n",
       "        vertical-align: top;\n",
       "    }\n",
       "\n",
       "    .dataframe thead th {\n",
       "        text-align: right;\n",
       "    }\n",
       "</style>\n",
       "<table border=\"1\" class=\"dataframe\">\n",
       "  <thead>\n",
       "    <tr style=\"text-align: right;\">\n",
       "      <th></th>\n",
       "      <th>Weekly_Sales</th>\n",
       "      <th>Holiday_Flag</th>\n",
       "      <th>Temperature</th>\n",
       "      <th>Fuel_Price</th>\n",
       "      <th>CPI</th>\n",
       "      <th>Unemployment</th>\n",
       "    </tr>\n",
       "  </thead>\n",
       "  <tbody>\n",
       "    <tr>\n",
       "      <th>count</th>\n",
       "      <td>6.435000e+03</td>\n",
       "      <td>6435.000000</td>\n",
       "      <td>6435.000000</td>\n",
       "      <td>6435.000000</td>\n",
       "      <td>6435.000000</td>\n",
       "      <td>6435.000000</td>\n",
       "    </tr>\n",
       "    <tr>\n",
       "      <th>mean</th>\n",
       "      <td>1.046965e+06</td>\n",
       "      <td>0.069930</td>\n",
       "      <td>60.663782</td>\n",
       "      <td>3.358607</td>\n",
       "      <td>171.578394</td>\n",
       "      <td>7.999151</td>\n",
       "    </tr>\n",
       "    <tr>\n",
       "      <th>std</th>\n",
       "      <td>5.643666e+05</td>\n",
       "      <td>0.255049</td>\n",
       "      <td>18.444933</td>\n",
       "      <td>0.459020</td>\n",
       "      <td>39.356712</td>\n",
       "      <td>1.875885</td>\n",
       "    </tr>\n",
       "    <tr>\n",
       "      <th>min</th>\n",
       "      <td>2.099862e+05</td>\n",
       "      <td>0.000000</td>\n",
       "      <td>-2.060000</td>\n",
       "      <td>2.472000</td>\n",
       "      <td>126.064000</td>\n",
       "      <td>3.879000</td>\n",
       "    </tr>\n",
       "    <tr>\n",
       "      <th>25%</th>\n",
       "      <td>5.533501e+05</td>\n",
       "      <td>0.000000</td>\n",
       "      <td>47.460000</td>\n",
       "      <td>2.933000</td>\n",
       "      <td>131.735000</td>\n",
       "      <td>6.891000</td>\n",
       "    </tr>\n",
       "    <tr>\n",
       "      <th>50%</th>\n",
       "      <td>9.607460e+05</td>\n",
       "      <td>0.000000</td>\n",
       "      <td>62.670000</td>\n",
       "      <td>3.445000</td>\n",
       "      <td>182.616521</td>\n",
       "      <td>7.874000</td>\n",
       "    </tr>\n",
       "    <tr>\n",
       "      <th>75%</th>\n",
       "      <td>1.420159e+06</td>\n",
       "      <td>0.000000</td>\n",
       "      <td>74.940000</td>\n",
       "      <td>3.735000</td>\n",
       "      <td>212.743293</td>\n",
       "      <td>8.622000</td>\n",
       "    </tr>\n",
       "    <tr>\n",
       "      <th>max</th>\n",
       "      <td>3.818686e+06</td>\n",
       "      <td>1.000000</td>\n",
       "      <td>100.140000</td>\n",
       "      <td>4.468000</td>\n",
       "      <td>227.232807</td>\n",
       "      <td>14.313000</td>\n",
       "    </tr>\n",
       "  </tbody>\n",
       "</table>\n",
       "</div>"
      ],
      "text/plain": [
       "       Weekly_Sales  Holiday_Flag  Temperature   Fuel_Price          CPI  \\\n",
       "count  6.435000e+03   6435.000000  6435.000000  6435.000000  6435.000000   \n",
       "mean   1.046965e+06      0.069930    60.663782     3.358607   171.578394   \n",
       "std    5.643666e+05      0.255049    18.444933     0.459020    39.356712   \n",
       "min    2.099862e+05      0.000000    -2.060000     2.472000   126.064000   \n",
       "25%    5.533501e+05      0.000000    47.460000     2.933000   131.735000   \n",
       "50%    9.607460e+05      0.000000    62.670000     3.445000   182.616521   \n",
       "75%    1.420159e+06      0.000000    74.940000     3.735000   212.743293   \n",
       "max    3.818686e+06      1.000000   100.140000     4.468000   227.232807   \n",
       "\n",
       "       Unemployment  \n",
       "count   6435.000000  \n",
       "mean       7.999151  \n",
       "std        1.875885  \n",
       "min        3.879000  \n",
       "25%        6.891000  \n",
       "50%        7.874000  \n",
       "75%        8.622000  \n",
       "max       14.313000  "
      ]
     },
     "execution_count": 16,
     "metadata": {},
     "output_type": "execute_result"
    }
   ],
   "source": [
    "# Statistical Information\n",
    "df.describe()"
   ]
  },
  {
   "cell_type": "markdown",
   "metadata": {},
   "source": [
    "The precise degree Fahrenheit is less significant for studying consumer turnout and sales than the general climatic condition given by the temperature value, which influences customers' demands and likelihood to go shopping.\n",
    "\n",
    "Therefore, we will group the temperature data into 4 Seasons\n",
    "1. Summer (>60 degrees)\n",
    "2. Autumn (40 to 60 degrees)\n",
    "3. Winter (< 20 degrees)\n",
    "4. Spring (20 to 40 degrees)\n",
    "\n"
   ]
  },
  {
   "cell_type": "code",
   "execution_count": 23,
   "metadata": {},
   "outputs": [],
   "source": [
    "#Season Mapping\n",
    "season_map = {\n",
    "    \"summer\" : [1, (60, 120)],\n",
    "    \"autumn\"     : [2,  (40, 60)],\n",
    "    \"winter\"     : [3,  (-20, 20)],\n",
    "    \"spring\"     : [4,  (20, 40)],\n",
    "}"
   ]
  },
  {
   "cell_type": "code",
   "execution_count": 24,
   "metadata": {},
   "outputs": [],
   "source": [
    "# Function to Map Season Conditions\n",
    "def map_season(value):\n",
    "    for i in season_map:\n",
    "        if ((value > season_map[i][1][0]) & (value <= season_map[i][1][1])):\n",
    "            return i\n",
    "        else:\n",
    "            pass\n",
    "        \n",
    "\n",
    "def map_season_numerically(value):\n",
    "    for i in season_map:\n",
    "        if ((value > season_map[i][1][0]) & (value <= season_map[i][1][1])):\n",
    "            return season_map[i][0]\n",
    "        else:\n",
    "            pass"
   ]
  },
  {
   "cell_type": "code",
   "execution_count": 25,
   "metadata": {},
   "outputs": [
    {
     "data": {
      "text/html": [
       "<div>\n",
       "<style scoped>\n",
       "    .dataframe tbody tr th:only-of-type {\n",
       "        vertical-align: middle;\n",
       "    }\n",
       "\n",
       "    .dataframe tbody tr th {\n",
       "        vertical-align: top;\n",
       "    }\n",
       "\n",
       "    .dataframe thead th {\n",
       "        text-align: right;\n",
       "    }\n",
       "</style>\n",
       "<table border=\"1\" class=\"dataframe\">\n",
       "  <thead>\n",
       "    <tr style=\"text-align: right;\">\n",
       "      <th></th>\n",
       "      <th>Temperature</th>\n",
       "      <th>season</th>\n",
       "      <th>season_num</th>\n",
       "    </tr>\n",
       "  </thead>\n",
       "  <tbody>\n",
       "    <tr>\n",
       "      <th>0</th>\n",
       "      <td>42.31</td>\n",
       "      <td>autumn</td>\n",
       "      <td>2</td>\n",
       "    </tr>\n",
       "    <tr>\n",
       "      <th>1</th>\n",
       "      <td>38.51</td>\n",
       "      <td>spring</td>\n",
       "      <td>4</td>\n",
       "    </tr>\n",
       "    <tr>\n",
       "      <th>2</th>\n",
       "      <td>39.93</td>\n",
       "      <td>spring</td>\n",
       "      <td>4</td>\n",
       "    </tr>\n",
       "    <tr>\n",
       "      <th>3</th>\n",
       "      <td>46.63</td>\n",
       "      <td>autumn</td>\n",
       "      <td>2</td>\n",
       "    </tr>\n",
       "    <tr>\n",
       "      <th>4</th>\n",
       "      <td>46.50</td>\n",
       "      <td>autumn</td>\n",
       "      <td>2</td>\n",
       "    </tr>\n",
       "  </tbody>\n",
       "</table>\n",
       "</div>"
      ],
      "text/plain": [
       "   Temperature  season  season_num\n",
       "0        42.31  autumn           2\n",
       "1        38.51  spring           4\n",
       "2        39.93  spring           4\n",
       "3        46.63  autumn           2\n",
       "4        46.50  autumn           2"
      ]
     },
     "execution_count": 25,
     "metadata": {},
     "output_type": "execute_result"
    }
   ],
   "source": [
    "df[\"season\"] = df[\"Temperature\"].apply(map_season)\n",
    "\n",
    "# Apply Numerical Weather Mapping to Dataframe\n",
    "df[\"season_num\"] = df[\"Temperature\"].apply(map_season_numerically)\n",
    "df[[\"Temperature\", \"season\", \"season_num\"]].head()\n"
   ]
  },
  {
   "cell_type": "code",
   "execution_count": 26,
   "metadata": {},
   "outputs": [
    {
     "data": {
      "text/html": [
       "<div>\n",
       "<style scoped>\n",
       "    .dataframe tbody tr th:only-of-type {\n",
       "        vertical-align: middle;\n",
       "    }\n",
       "\n",
       "    .dataframe tbody tr th {\n",
       "        vertical-align: top;\n",
       "    }\n",
       "\n",
       "    .dataframe thead th {\n",
       "        text-align: right;\n",
       "    }\n",
       "</style>\n",
       "<table border=\"1\" class=\"dataframe\">\n",
       "  <thead>\n",
       "    <tr style=\"text-align: right;\">\n",
       "      <th></th>\n",
       "      <th>Temperature</th>\n",
       "      <th>season</th>\n",
       "      <th>season_num</th>\n",
       "    </tr>\n",
       "  </thead>\n",
       "  <tbody>\n",
       "    <tr>\n",
       "      <th>6430</th>\n",
       "      <td>64.88</td>\n",
       "      <td>summer</td>\n",
       "      <td>1</td>\n",
       "    </tr>\n",
       "    <tr>\n",
       "      <th>6431</th>\n",
       "      <td>64.89</td>\n",
       "      <td>summer</td>\n",
       "      <td>1</td>\n",
       "    </tr>\n",
       "    <tr>\n",
       "      <th>6432</th>\n",
       "      <td>54.47</td>\n",
       "      <td>autumn</td>\n",
       "      <td>2</td>\n",
       "    </tr>\n",
       "    <tr>\n",
       "      <th>6433</th>\n",
       "      <td>56.47</td>\n",
       "      <td>autumn</td>\n",
       "      <td>2</td>\n",
       "    </tr>\n",
       "    <tr>\n",
       "      <th>6434</th>\n",
       "      <td>58.85</td>\n",
       "      <td>autumn</td>\n",
       "      <td>2</td>\n",
       "    </tr>\n",
       "  </tbody>\n",
       "</table>\n",
       "</div>"
      ],
      "text/plain": [
       "      Temperature  season  season_num\n",
       "6430        64.88  summer           1\n",
       "6431        64.89  summer           1\n",
       "6432        54.47  autumn           2\n",
       "6433        56.47  autumn           2\n",
       "6434        58.85  autumn           2"
      ]
     },
     "execution_count": 26,
     "metadata": {},
     "output_type": "execute_result"
    }
   ],
   "source": [
    "df[[\"Temperature\", \"season\", \"season_num\"]].tail()"
   ]
  },
  {
   "cell_type": "code",
   "execution_count": 27,
   "metadata": {},
   "outputs": [
    {
     "data": {
      "text/plain": [
       "summer    3498\n",
       "autumn    1948\n",
       "spring     903\n",
       "winter      86\n",
       "Name: season, dtype: int64"
      ]
     },
     "execution_count": 27,
     "metadata": {},
     "output_type": "execute_result"
    }
   ],
   "source": [
    "# checking Season Values\n",
    "df[\"season\"].value_counts()"
   ]
  },
  {
   "cell_type": "code",
   "execution_count": 90,
   "metadata": {},
   "outputs": [
    {
     "data": {
      "text/html": [
       "<div>\n",
       "<style scoped>\n",
       "    .dataframe tbody tr th:only-of-type {\n",
       "        vertical-align: middle;\n",
       "    }\n",
       "\n",
       "    .dataframe tbody tr th {\n",
       "        vertical-align: top;\n",
       "    }\n",
       "\n",
       "    .dataframe thead th {\n",
       "        text-align: right;\n",
       "    }\n",
       "</style>\n",
       "<table border=\"1\" class=\"dataframe\">\n",
       "  <thead>\n",
       "    <tr style=\"text-align: right;\">\n",
       "      <th></th>\n",
       "      <th>Date</th>\n",
       "      <th>Weekly_Sales</th>\n",
       "      <th>Holiday_Flag</th>\n",
       "      <th>Temperature</th>\n",
       "      <th>Fuel_Price</th>\n",
       "      <th>CPI</th>\n",
       "      <th>Unemployment</th>\n",
       "      <th>season</th>\n",
       "      <th>season_num</th>\n",
       "    </tr>\n",
       "  </thead>\n",
       "  <tbody>\n",
       "    <tr>\n",
       "      <th>0</th>\n",
       "      <td>05-02-2010</td>\n",
       "      <td>1643690.90</td>\n",
       "      <td>0</td>\n",
       "      <td>42.31</td>\n",
       "      <td>2.572</td>\n",
       "      <td>211.096358</td>\n",
       "      <td>8.106</td>\n",
       "      <td>autumn</td>\n",
       "      <td>2</td>\n",
       "    </tr>\n",
       "    <tr>\n",
       "      <th>1</th>\n",
       "      <td>12-02-2010</td>\n",
       "      <td>1641957.44</td>\n",
       "      <td>1</td>\n",
       "      <td>38.51</td>\n",
       "      <td>2.548</td>\n",
       "      <td>211.242170</td>\n",
       "      <td>8.106</td>\n",
       "      <td>spring</td>\n",
       "      <td>4</td>\n",
       "    </tr>\n",
       "    <tr>\n",
       "      <th>2</th>\n",
       "      <td>19-02-2010</td>\n",
       "      <td>1611968.17</td>\n",
       "      <td>0</td>\n",
       "      <td>39.93</td>\n",
       "      <td>2.514</td>\n",
       "      <td>211.289143</td>\n",
       "      <td>8.106</td>\n",
       "      <td>spring</td>\n",
       "      <td>4</td>\n",
       "    </tr>\n",
       "    <tr>\n",
       "      <th>3</th>\n",
       "      <td>26-02-2010</td>\n",
       "      <td>1409727.59</td>\n",
       "      <td>0</td>\n",
       "      <td>46.63</td>\n",
       "      <td>2.561</td>\n",
       "      <td>211.319643</td>\n",
       "      <td>8.106</td>\n",
       "      <td>autumn</td>\n",
       "      <td>2</td>\n",
       "    </tr>\n",
       "    <tr>\n",
       "      <th>4</th>\n",
       "      <td>05-03-2010</td>\n",
       "      <td>1554806.68</td>\n",
       "      <td>0</td>\n",
       "      <td>46.50</td>\n",
       "      <td>2.625</td>\n",
       "      <td>211.350143</td>\n",
       "      <td>8.106</td>\n",
       "      <td>autumn</td>\n",
       "      <td>2</td>\n",
       "    </tr>\n",
       "  </tbody>\n",
       "</table>\n",
       "</div>"
      ],
      "text/plain": [
       "         Date  Weekly_Sales  Holiday_Flag  Temperature  Fuel_Price   \n",
       "0  05-02-2010    1643690.90             0        42.31       2.572  \\\n",
       "1  12-02-2010    1641957.44             1        38.51       2.548   \n",
       "2  19-02-2010    1611968.17             0        39.93       2.514   \n",
       "3  26-02-2010    1409727.59             0        46.63       2.561   \n",
       "4  05-03-2010    1554806.68             0        46.50       2.625   \n",
       "\n",
       "          CPI  Unemployment  season  season_num  \n",
       "0  211.096358         8.106  autumn           2  \n",
       "1  211.242170         8.106  spring           4  \n",
       "2  211.289143         8.106  spring           4  \n",
       "3  211.319643         8.106  autumn           2  \n",
       "4  211.350143         8.106  autumn           2  "
      ]
     },
     "execution_count": 90,
     "metadata": {},
     "output_type": "execute_result"
    }
   ],
   "source": [
    "df.head()"
   ]
  },
  {
   "cell_type": "markdown",
   "metadata": {},
   "source": [
    "## Modelling"
   ]
  },
  {
   "cell_type": "code",
   "execution_count": null,
   "metadata": {},
   "outputs": [],
   "source": [
    "Usingsm.ols()"
   ]
  },
  {
   "cell_type": "code",
   "execution_count": 28,
   "metadata": {},
   "outputs": [
    {
     "data": {
      "text/plain": [
       "Index(['Date', 'Weekly_Sales', 'Holiday_Flag', 'Temperature', 'Fuel_Price',\n",
       "       'CPI', 'Unemployment', 'season', 'season_num'],\n",
       "      dtype='object')"
      ]
     },
     "execution_count": 28,
     "metadata": {},
     "output_type": "execute_result"
    }
   ],
   "source": [
    "df.columns"
   ]
  },
  {
   "cell_type": "code",
   "execution_count": 29,
   "metadata": {},
   "outputs": [
    {
     "data": {
      "text/html": [
       "<table class=\"simpletable\">\n",
       "<caption>OLS Regression Results</caption>\n",
       "<tr>\n",
       "  <th>Dep. Variable:</th>      <td>Weekly_Sales</td>   <th>  R-squared:         </th> <td>   0.005</td> \n",
       "</tr>\n",
       "<tr>\n",
       "  <th>Model:</th>                   <td>OLS</td>       <th>  Adj. R-squared:    </th> <td>   0.004</td> \n",
       "</tr>\n",
       "<tr>\n",
       "  <th>Method:</th>             <td>Least Squares</td>  <th>  F-statistic:       </th> <td>   10.41</td> \n",
       "</tr>\n",
       "<tr>\n",
       "  <th>Date:</th>             <td>Tue, 01 Aug 2023</td> <th>  Prob (F-statistic):</th> <td>7.89e-07</td> \n",
       "</tr>\n",
       "<tr>\n",
       "  <th>Time:</th>                 <td>14:51:07</td>     <th>  Log-Likelihood:    </th> <td> -94336.</td> \n",
       "</tr>\n",
       "<tr>\n",
       "  <th>No. Observations:</th>      <td>  6435</td>      <th>  AIC:               </th> <td>1.887e+05</td>\n",
       "</tr>\n",
       "<tr>\n",
       "  <th>Df Residuals:</th>          <td>  6431</td>      <th>  BIC:               </th> <td>1.887e+05</td>\n",
       "</tr>\n",
       "<tr>\n",
       "  <th>Df Model:</th>              <td>     3</td>      <th>                     </th>     <td> </td>    \n",
       "</tr>\n",
       "<tr>\n",
       "  <th>Covariance Type:</th>      <td>nonrobust</td>    <th>                     </th>     <td> </td>    \n",
       "</tr>\n",
       "</table>\n",
       "<table class=\"simpletable\">\n",
       "<tr>\n",
       "       <td></td>          <th>coef</th>     <th>std err</th>      <th>t</th>      <th>P>|t|</th>  <th>[0.025</th>    <th>0.975]</th>  \n",
       "</tr>\n",
       "<tr>\n",
       "  <th>const</th>       <td> 1.199e+06</td> <td> 8.56e+04</td> <td>   13.995</td> <td> 0.000</td> <td> 1.03e+06</td> <td> 1.37e+06</td>\n",
       "</tr>\n",
       "<tr>\n",
       "  <th>Temperature</th> <td>-3091.2266</td> <td>  758.211</td> <td>   -4.077</td> <td> 0.000</td> <td>-4577.573</td> <td>-1604.880</td>\n",
       "</tr>\n",
       "<tr>\n",
       "  <th>Fuel_Price</th>  <td> 2.215e+04</td> <td> 1.55e+04</td> <td>    1.431</td> <td> 0.153</td> <td>-8200.184</td> <td> 5.25e+04</td>\n",
       "</tr>\n",
       "<tr>\n",
       "  <th>season_num</th>  <td>-2.198e+04</td> <td> 1.36e+04</td> <td>   -1.613</td> <td> 0.107</td> <td>-4.87e+04</td> <td> 4729.731</td>\n",
       "</tr>\n",
       "</table>\n",
       "<table class=\"simpletable\">\n",
       "<tr>\n",
       "  <th>Omnibus:</th>       <td>407.352</td> <th>  Durbin-Watson:     </th> <td>   0.111</td> \n",
       "</tr>\n",
       "<tr>\n",
       "  <th>Prob(Omnibus):</th> <td> 0.000</td>  <th>  Jarque-Bera (JB):  </th> <td> 489.181</td> \n",
       "</tr>\n",
       "<tr>\n",
       "  <th>Skew:</th>          <td> 0.675</td>  <th>  Prob(JB):          </th> <td>5.96e-107</td>\n",
       "</tr>\n",
       "<tr>\n",
       "  <th>Kurtosis:</th>      <td> 2.990</td>  <th>  Cond. No.          </th> <td>    785.</td> \n",
       "</tr>\n",
       "</table><br/><br/>Notes:<br/>[1] Standard Errors assume that the covariance matrix of the errors is correctly specified."
      ],
      "text/plain": [
       "<class 'statsmodels.iolib.summary.Summary'>\n",
       "\"\"\"\n",
       "                            OLS Regression Results                            \n",
       "==============================================================================\n",
       "Dep. Variable:           Weekly_Sales   R-squared:                       0.005\n",
       "Model:                            OLS   Adj. R-squared:                  0.004\n",
       "Method:                 Least Squares   F-statistic:                     10.41\n",
       "Date:                Tue, 01 Aug 2023   Prob (F-statistic):           7.89e-07\n",
       "Time:                        14:51:07   Log-Likelihood:                -94336.\n",
       "No. Observations:                6435   AIC:                         1.887e+05\n",
       "Df Residuals:                    6431   BIC:                         1.887e+05\n",
       "Df Model:                           3                                         \n",
       "Covariance Type:            nonrobust                                         \n",
       "===============================================================================\n",
       "                  coef    std err          t      P>|t|      [0.025      0.975]\n",
       "-------------------------------------------------------------------------------\n",
       "const        1.199e+06   8.56e+04     13.995      0.000    1.03e+06    1.37e+06\n",
       "Temperature -3091.2266    758.211     -4.077      0.000   -4577.573   -1604.880\n",
       "Fuel_Price   2.215e+04   1.55e+04      1.431      0.153   -8200.184    5.25e+04\n",
       "season_num  -2.198e+04   1.36e+04     -1.613      0.107   -4.87e+04    4729.731\n",
       "==============================================================================\n",
       "Omnibus:                      407.352   Durbin-Watson:                   0.111\n",
       "Prob(Omnibus):                  0.000   Jarque-Bera (JB):              489.181\n",
       "Skew:                           0.675   Prob(JB):                    5.96e-107\n",
       "Kurtosis:                       2.990   Cond. No.                         785.\n",
       "==============================================================================\n",
       "\n",
       "Notes:\n",
       "[1] Standard Errors assume that the covariance matrix of the errors is correctly specified.\n",
       "\"\"\""
      ]
     },
     "execution_count": 29,
     "metadata": {},
     "output_type": "execute_result"
    }
   ],
   "source": [
    "X = df[[\"Temperature\", \"Fuel_Price\", \"season_num\" ]]\n",
    "y = df[\"Weekly_Sales\"]\n",
    "# add constant to the model\n",
    "x = sm.add_constant(X)\n",
    "\n",
    "# create model object\n",
    "model = sm.OLS(y, x)\n",
    "# fit the model\n",
    "result = model.fit(method='pinv')\n",
    "# print the summary output \n",
    "result.summary()"
   ]
  },
  {
   "cell_type": "markdown",
   "metadata": {},
   "source": [
    " There is a  positive coefficient in Fuel_price  indicating  that as the value of the independent variable increases, the mean of the dependent variable which is Weekly_Sales also tends to increase.\n",
    " There is negative coefficients in Temperature and seasons suggestsing that as the independent variables increases, the weekly sales tends to decrease.\n",
    " "
   ]
  },
  {
   "cell_type": "code",
   "execution_count": null,
   "metadata": {},
   "outputs": [],
   "source": []
  }
 ],
 "metadata": {
  "kernelspec": {
   "display_name": "Python(learn-env)",
   "language": "python",
   "name": "learn-env"
  },
  "language_info": {
   "codemirror_mode": {
    "name": "ipython",
    "version": 3
   },
   "file_extension": ".py",
   "mimetype": "text/x-python",
   "name": "python",
   "nbconvert_exporter": "python",
   "pygments_lexer": "ipython3",
   "version": "3.10.11"
  }
 },
 "nbformat": 4,
 "nbformat_minor": 2
}
